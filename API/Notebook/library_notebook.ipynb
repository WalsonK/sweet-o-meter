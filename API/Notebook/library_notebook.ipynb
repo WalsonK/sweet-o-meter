{
 "cells": [
  {
   "cell_type": "markdown",
   "source": [
    "# Library"
   ],
   "metadata": {
    "collapsed": false
   }
  },
  {
   "cell_type": "code",
   "execution_count": 1,
   "metadata": {
    "collapsed": true,
    "ExecuteTime": {
     "end_time": "2023-08-09T16:45:46.173583Z",
     "start_time": "2023-08-09T16:45:45.450728Z"
    }
   },
   "outputs": [],
   "source": [
    "from Python_Library.library import MLP\n",
    "import matplotlib.pyplot as plt"
   ]
  },
  {
   "cell_type": "markdown",
   "source": [
    "## Cas de test"
   ],
   "metadata": {
    "collapsed": false
   }
  },
  {
   "cell_type": "markdown",
   "source": [
    "### Classification Linéaire avec un PMC (sans couche cachée)"
   ],
   "metadata": {
    "collapsed": false
   }
  },
  {
   "cell_type": "code",
   "execution_count": 8,
   "outputs": [],
   "source": [
    "test_1_all_samples_inputs = [\n",
    "    [0, 0],\n",
    "    [0, 1],\n",
    "    [1, 0]\n",
    "]\n",
    "test_1_all_samples_expected_outputs = [\n",
    "    [1],\n",
    "    [-1],\n",
    "    [-1]\n",
    "]"
   ],
   "metadata": {
    "collapsed": false,
    "ExecuteTime": {
     "end_time": "2023-08-09T16:48:17.311270Z",
     "start_time": "2023-08-09T16:48:17.297992Z"
    }
   }
  },
  {
   "cell_type": "code",
   "execution_count": 9,
   "outputs": [],
   "source": [
    "test1_mlp = MLP([2, 1])"
   ],
   "metadata": {
    "collapsed": false,
    "ExecuteTime": {
     "end_time": "2023-08-09T16:48:18.683633Z",
     "start_time": "2023-08-09T16:48:18.679444Z"
    }
   }
  },
  {
   "cell_type": "code",
   "execution_count": 10,
   "outputs": [
    {
     "name": "stdout",
     "output_type": "stream",
     "text": [
      "[-0.5726771980675031]\n",
      "[-0.7760167902280639]\n",
      "[-0.813246250449239]\n"
     ]
    }
   ],
   "source": [
    "for sample_inputs in test_1_all_samples_inputs:\n",
    "  print(test1_mlp.predict(sample_inputs, True))"
   ],
   "metadata": {
    "collapsed": false,
    "ExecuteTime": {
     "end_time": "2023-08-09T16:48:19.594055Z",
     "start_time": "2023-08-09T16:48:19.589947Z"
    }
   }
  },
  {
   "cell_type": "code",
   "execution_count": 11,
   "outputs": [],
   "source": [
    "data = test1_mlp.fit(test_1_all_samples_inputs, test_1_all_samples_expected_outputs, True, 100, 0.01)"
   ],
   "metadata": {
    "collapsed": false,
    "ExecuteTime": {
     "end_time": "2023-08-09T16:48:21.905596Z",
     "start_time": "2023-08-09T16:48:21.895213Z"
    }
   }
  },
  {
   "cell_type": "code",
   "execution_count": 6,
   "outputs": [
    {
     "name": "stdout",
     "output_type": "stream",
     "text": [
      "{'loss': [1.5818071454272569, 0.5543407139807225, 0.5447132387521862, 0.5353207695345098, 0.5261572066809092, 1.5913533318796533, 1.5362603674857707, 0.5487051570502555, 1.497991756994661, 1.4441500491381378], 'accuracy': [1.0, 1.0, 1.0, 1.0, 1.0, 1.0, 1.0, 1.0, 1.0, 1.0]}\n"
     ]
    }
   ],
   "source": [
    "print(data)"
   ],
   "metadata": {
    "collapsed": false,
    "ExecuteTime": {
     "end_time": "2023-08-08T23:28:44.950051Z",
     "start_time": "2023-08-08T23:28:44.942958Z"
    }
   }
  },
  {
   "cell_type": "code",
   "execution_count": 6,
   "outputs": [
    {
     "name": "stdout",
     "output_type": "stream",
     "text": [
      "[0.15412798506280195]\n",
      "[-0.4784760037938338]\n",
      "[0.11869545974384102]\n"
     ]
    }
   ],
   "source": [
    "for sample_inputs in test_1_all_samples_inputs:\n",
    "  print(test1_mlp.predict(sample_inputs, True))"
   ],
   "metadata": {
    "collapsed": false,
    "ExecuteTime": {
     "end_time": "2023-08-09T14:52:09.384501Z",
     "start_time": "2023-08-09T14:52:09.378966Z"
    }
   }
  },
  {
   "cell_type": "markdown",
   "source": [
    "### Classification Non Linéaire (XOR) avec un PMC"
   ],
   "metadata": {
    "collapsed": false
   }
  },
  {
   "cell_type": "code",
   "execution_count": 2,
   "outputs": [],
   "source": [
    "test_2_all_samples_inputs = [\n",
    "    [0, 0],\n",
    "    [0, 1],\n",
    "    [1, 0],\n",
    "    [1, 1]\n",
    "]\n",
    "test_2_all_samples_expected_outputs = [\n",
    "    [-1],\n",
    "    [1],\n",
    "    [1],\n",
    "    [-1]\n",
    "]"
   ],
   "metadata": {
    "collapsed": false,
    "ExecuteTime": {
     "end_time": "2023-08-03T22:23:31.687332Z",
     "start_time": "2023-08-03T22:23:31.679513Z"
    }
   }
  },
  {
   "cell_type": "code",
   "execution_count": 3,
   "outputs": [],
   "source": [
    "test2_mlp = MLP([2, 2, 1])"
   ],
   "metadata": {
    "collapsed": false,
    "ExecuteTime": {
     "end_time": "2023-08-03T22:23:45.967573Z",
     "start_time": "2023-08-03T22:23:45.960255Z"
    }
   }
  },
  {
   "cell_type": "code",
   "execution_count": 4,
   "outputs": [
    {
     "name": "stdout",
     "output_type": "stream",
     "text": [
      "[-0.1465149427824706]\n",
      "[0.575177383695049]\n",
      "[-0.4724421415888447]\n",
      "[0.3646451610248691]\n"
     ]
    }
   ],
   "source": [
    "for sample_inputs in test_2_all_samples_inputs:\n",
    "  print(test2_mlp.predict(sample_inputs, True))"
   ],
   "metadata": {
    "collapsed": false,
    "ExecuteTime": {
     "end_time": "2023-08-03T22:23:50.385071Z",
     "start_time": "2023-08-03T22:23:50.363814Z"
    }
   }
  },
  {
   "cell_type": "code",
   "execution_count": 5,
   "outputs": [],
   "source": [
    "test2_mlp.fit(test_2_all_samples_inputs, test_2_all_samples_expected_outputs, True, 100000, 0.01)"
   ],
   "metadata": {
    "collapsed": false,
    "ExecuteTime": {
     "end_time": "2023-08-03T22:23:54.128999Z",
     "start_time": "2023-08-03T22:23:52.141803Z"
    }
   }
  },
  {
   "cell_type": "code",
   "execution_count": 6,
   "outputs": [
    {
     "name": "stdout",
     "output_type": "stream",
     "text": [
      "[-0.9736293378370515]\n",
      "[0.9744103389798404]\n",
      "[-0.001015576182950436]\n",
      "[0.0014669634727310997]\n"
     ]
    }
   ],
   "source": [
    "for sample_inputs in test_2_all_samples_inputs:\n",
    "  print(test2_mlp.predict(sample_inputs, True))"
   ],
   "metadata": {
    "collapsed": false,
    "ExecuteTime": {
     "end_time": "2023-08-03T22:23:58.744926Z",
     "start_time": "2023-08-03T22:23:58.741475Z"
    }
   }
  },
  {
   "cell_type": "markdown",
   "source": [
    "### Régression Linéaire avec un PMC (sans couche cachée)"
   ],
   "metadata": {
    "collapsed": false
   }
  },
  {
   "cell_type": "code",
   "execution_count": 13,
   "outputs": [],
   "source": [
    "test_3_all_samples_inputs = [\n",
    "    [0, 0],\n",
    "    [0, 1],\n",
    "    [1, 0]\n",
    "]\n",
    "test_3_all_samples_expected_outputs = [\n",
    "    [42],\n",
    "    [51],\n",
    "    [19]\n",
    "]"
   ],
   "metadata": {
    "collapsed": false,
    "ExecuteTime": {
     "end_time": "2023-07-31T17:39:00.452862Z",
     "start_time": "2023-07-31T17:39:00.447970Z"
    }
   }
  },
  {
   "cell_type": "code",
   "execution_count": 14,
   "outputs": [],
   "source": [
    "test3_mlp = MLP([2, 1])"
   ],
   "metadata": {
    "collapsed": false,
    "ExecuteTime": {
     "end_time": "2023-07-31T17:39:01.483649Z",
     "start_time": "2023-07-31T17:39:01.471951Z"
    }
   }
  },
  {
   "cell_type": "code",
   "execution_count": 15,
   "outputs": [
    {
     "name": "stdout",
     "output_type": "stream",
     "text": [
      "[-0.3571417043225156]\n",
      "[0.2647861855530549]\n",
      "[0.5746175995623426]\n"
     ]
    }
   ],
   "source": [
    "for sample_inputs in test_3_all_samples_inputs:\n",
    "  print(test3_mlp.predict(sample_inputs, False))"
   ],
   "metadata": {
    "collapsed": false,
    "ExecuteTime": {
     "end_time": "2023-07-31T17:39:21.832208Z",
     "start_time": "2023-07-31T17:39:21.819390Z"
    }
   }
  },
  {
   "cell_type": "code",
   "execution_count": 16,
   "outputs": [],
   "source": [
    "test3_mlp.fit(test_3_all_samples_inputs, test_3_all_samples_expected_outputs, False, 100000, 0.01)"
   ],
   "metadata": {
    "collapsed": false,
    "ExecuteTime": {
     "end_time": "2023-07-31T17:39:26.252533Z",
     "start_time": "2023-07-31T17:39:25.380447Z"
    }
   }
  },
  {
   "cell_type": "code",
   "execution_count": 17,
   "outputs": [
    {
     "name": "stdout",
     "output_type": "stream",
     "text": [
      "[41.999999999999645]\n",
      "[51.000000000000085]\n",
      "[19.000000000000178]\n"
     ]
    }
   ],
   "source": [
    "for sample_inputs in test_3_all_samples_inputs:\n",
    "  print(test3_mlp.predict(sample_inputs, False))"
   ],
   "metadata": {
    "collapsed": false,
    "ExecuteTime": {
     "end_time": "2023-07-31T17:39:27.993639Z",
     "start_time": "2023-07-31T17:39:27.980897Z"
    }
   }
  },
  {
   "cell_type": "markdown",
   "source": [
    "### Régression Non Linéaire avec un PMC"
   ],
   "metadata": {
    "collapsed": false
   }
  },
  {
   "cell_type": "code",
   "execution_count": 18,
   "outputs": [],
   "source": [
    "test_4_all_samples_inputs = [\n",
    "    [0, 0],\n",
    "    [0, 1],\n",
    "    [1, 0],\n",
    "    [1, 1],\n",
    "]\n",
    "test_4_all_samples_expected_outputs = [\n",
    "    [42],\n",
    "    [51],\n",
    "    [19],\n",
    "    [5],\n",
    "]"
   ],
   "metadata": {
    "collapsed": false,
    "ExecuteTime": {
     "end_time": "2023-07-31T17:40:35.722342Z",
     "start_time": "2023-07-31T17:40:35.712751Z"
    }
   }
  },
  {
   "cell_type": "code",
   "execution_count": 19,
   "outputs": [],
   "source": [
    "test4_mlp = MLP([2, 5, 1])"
   ],
   "metadata": {
    "collapsed": false,
    "ExecuteTime": {
     "end_time": "2023-07-31T17:40:37.549083Z",
     "start_time": "2023-07-31T17:40:37.539007Z"
    }
   }
  },
  {
   "cell_type": "code",
   "execution_count": 20,
   "outputs": [
    {
     "name": "stdout",
     "output_type": "stream",
     "text": [
      "[0.30410099877403096]\n",
      "[0.21404427119358904]\n",
      "[0.3456457229367757]\n",
      "[0.24451115338824014]\n"
     ]
    }
   ],
   "source": [
    "for sample_inputs in test_4_all_samples_inputs:\n",
    "  print(test4_mlp.predict(sample_inputs, False))"
   ],
   "metadata": {
    "collapsed": false,
    "ExecuteTime": {
     "end_time": "2023-07-31T17:41:01.536873Z",
     "start_time": "2023-07-31T17:41:01.525356Z"
    }
   }
  },
  {
   "cell_type": "code",
   "execution_count": 21,
   "outputs": [],
   "source": [
    "test4_mlp.fit(test_4_all_samples_inputs, test_4_all_samples_expected_outputs, False, 100000, 0.01)"
   ],
   "metadata": {
    "collapsed": false,
    "ExecuteTime": {
     "end_time": "2023-07-31T17:41:10.187889Z",
     "start_time": "2023-07-31T17:41:06.624734Z"
    }
   }
  },
  {
   "cell_type": "code",
   "execution_count": 22,
   "outputs": [
    {
     "name": "stdout",
     "output_type": "stream",
     "text": [
      "[42.0]\n",
      "[50.999999999999986]\n",
      "[19.0]\n",
      "[5.000000000000002]\n"
     ]
    }
   ],
   "source": [
    "for sample_inputs in test_4_all_samples_inputs:\n",
    "  print(test4_mlp.predict(sample_inputs, False))\n"
   ],
   "metadata": {
    "collapsed": false,
    "ExecuteTime": {
     "end_time": "2023-07-31T17:41:17.274109Z",
     "start_time": "2023-07-31T17:41:17.257935Z"
    }
   }
  },
  {
   "cell_type": "markdown",
   "source": [
    "## Test function categorical accuracy"
   ],
   "metadata": {
    "collapsed": false
   }
  },
  {
   "cell_type": "code",
   "execution_count": 2,
   "outputs": [],
   "source": [
    "test5_inputs = [\n",
    "    [0, 0],\n",
    "    [0, 1],\n",
    "    [1, 0]\n",
    "]\n",
    "\n",
    "test5_outputs = [\n",
    "    [-1, -1],\n",
    "    [-1, -1],\n",
    "    [1, -1]\n",
    "]"
   ],
   "metadata": {
    "collapsed": false,
    "ExecuteTime": {
     "end_time": "2023-08-09T16:46:12.668687Z",
     "start_time": "2023-08-09T16:46:12.663969Z"
    }
   }
  },
  {
   "cell_type": "code",
   "execution_count": 3,
   "outputs": [],
   "source": [
    "test5_mlp = MLP([2,2])"
   ],
   "metadata": {
    "collapsed": false,
    "ExecuteTime": {
     "end_time": "2023-08-09T16:46:15.348620Z",
     "start_time": "2023-08-09T16:46:15.342223Z"
    }
   }
  },
  {
   "cell_type": "code",
   "execution_count": 4,
   "outputs": [],
   "source": [
    "data = test5_mlp.fit(test5_inputs, test5_outputs, True, 100, 0.2)"
   ],
   "metadata": {
    "collapsed": false,
    "ExecuteTime": {
     "end_time": "2023-08-09T16:46:18.362905Z",
     "start_time": "2023-08-09T16:46:17.541154Z"
    }
   }
  },
  {
   "cell_type": "code",
   "execution_count": 5,
   "outputs": [
    {
     "name": "stdout",
     "output_type": "stream",
     "text": [
      "0.91\n"
     ]
    }
   ],
   "source": [
    "print(data['accuracy'][-1])"
   ],
   "metadata": {
    "collapsed": false,
    "ExecuteTime": {
     "end_time": "2023-08-09T16:46:25.745971Z",
     "start_time": "2023-08-09T16:46:25.739343Z"
    }
   }
  },
  {
   "cell_type": "code",
   "execution_count": 6,
   "outputs": [
    {
     "name": "stdout",
     "output_type": "stream",
     "text": [
      "----- predictions ------\n",
      "[-0.7264390843267738, -0.8844574003286164]\n",
      "[-0.8700052214989659, -0.9644653732019977]\n",
      "[0.751357735470274, -0.9687728598802668]\n"
     ]
    }
   ],
   "source": [
    "print(\"----- predictions ------\")\n",
    "for sample in test5_inputs:\n",
    "    print(test5_mlp.predict(sample, True))"
   ],
   "metadata": {
    "collapsed": false,
    "ExecuteTime": {
     "end_time": "2023-08-09T16:46:29.064926Z",
     "start_time": "2023-08-09T16:46:29.059023Z"
    }
   }
  },
  {
   "cell_type": "code",
   "execution_count": 7,
   "outputs": [
    {
     "data": {
      "text/plain": "<Figure size 640x480 with 1 Axes>",
      "image/png": "[encoded data removed]"
     },
     "metadata": {},
     "output_type": "display_data"
    }
   ],
   "source": [
    "plt.plot(range(len(data['accuracy'])), data['accuracy'], label='Droit de l\\'accuracy')\n",
    "plt.xlabel('Iteration')\n",
    "plt.ylabel('Accuracy')\n",
    "plt.title('Evolution of the accuracy')\n",
    "plt.legend()\n",
    "plt.grid()\n",
    "plt.show()"
   ],
   "metadata": {
    "collapsed": false,
    "ExecuteTime": {
     "end_time": "2023-08-09T16:46:37.465337Z",
     "start_time": "2023-08-09T16:46:37.311980Z"
    }
   }
  },
  {
   "cell_type": "markdown",
   "source": [
    "## MNIST DATASET"
   ],
   "metadata": {
    "collapsed": false
   }
  },
  {
   "cell_type": "code",
   "execution_count": 23,
   "outputs": [],
   "source": [
    "import tensorflow as tf\n",
    "import numpy as np\n",
    "import matplotlib.pyplot as plt\n",
    "from mpl_toolkits.axes_grid1 import ImageGrid"
   ],
   "metadata": {
    "collapsed": false,
    "ExecuteTime": {
     "end_time": "2023-07-31T17:52:22.214299Z",
     "start_time": "2023-07-31T17:52:14.765085Z"
    }
   }
  },
  {
   "cell_type": "code",
   "execution_count": 24,
   "outputs": [
    {
     "name": "stdout",
     "output_type": "stream",
     "text": [
      "(60000, 28, 28)\n",
      "(60000,)\n",
      "Data type : float64\n",
      "Data type : float64\n"
     ]
    }
   ],
   "source": [
    "# load MNIST data\n",
    "(x_train, y_train), (x_test, y_test) = tf.keras.datasets.mnist.load_data()\n",
    "print(x_train.shape)\n",
    "print(y_train.shape)\n",
    "\n",
    "# Preprocessing\n",
    "x_train = x_train / 255.0\n",
    "x_test = x_test / 255.0\n",
    "\n",
    "x_train_mean = np.mean(x_train)\n",
    "x_train_std = np.std(x_train)\n",
    "x_train_standardized = (x_train - x_train_mean) / x_train_std\n",
    "\n",
    "x_test_standardized = (x_test - x_train_mean) / x_train_std\n",
    "\n",
    "y_train = tf.keras.utils.to_categorical(y_train, 10)\n",
    "y_test = tf.keras.utils.to_categorical(y_test, 10)\n",
    "\n",
    "# Track data type\n",
    "data_type = x_train.dtype\n",
    "print(f\"Data type : {data_type}\")\n",
    "label_type = x_test.dtype\n",
    "print(f\"Data type : {label_type}\")"
   ],
   "metadata": {
    "collapsed": false,
    "ExecuteTime": {
     "end_time": "2023-07-31T17:52:26.425463Z",
     "start_time": "2023-07-31T17:52:25.373351Z"
    }
   }
  },
  {
   "cell_type": "code",
   "execution_count": 25,
   "outputs": [
    {
     "data": {
      "text/plain": "<Figure size 400x400 with 32 Axes>",
      "image/png": "[encoded data removed]"
     },
     "metadata": {},
     "output_type": "display_data"
    }
   ],
   "source": [
    "im_list = []\n",
    "n_samples_to_show = 16\n",
    "c = 0\n",
    "for i in range(n_samples_to_show):\n",
    "  im_list.append(x_train[i])\n",
    "\n",
    "fig = plt.figure(figsize=(4., 4.))\n",
    "grid = ImageGrid(fig, 111, nrows_ncols=(4,4), axes_pad=0.1)\n",
    "\n",
    "for ax, im in zip(grid, im_list):\n",
    "  ax.imshow(im, 'gray')\n",
    "\n",
    "plt.show()"
   ],
   "metadata": {
    "collapsed": false,
    "ExecuteTime": {
     "end_time": "2023-07-31T17:52:30.995704Z",
     "start_time": "2023-07-31T17:52:29.534238Z"
    }
   }
  },
  {
   "cell_type": "code",
   "execution_count": 29,
   "outputs": [
    {
     "ename": "IndexError",
     "evalue": "index 28 is out of bounds for axis 0 with size 28",
     "output_type": "error",
     "traceback": [
      "\u001B[0;31m---------------------------------------------------------------------------\u001B[0m",
      "\u001B[0;31mIndexError\u001B[0m                                Traceback (most recent call last)",
      "Cell \u001B[0;32mIn[29], line 2\u001B[0m\n\u001B[1;32m      1\u001B[0m model \u001B[38;5;241m=\u001B[39m MLP([\u001B[38;5;241m512\u001B[39m, \u001B[38;5;241m256\u001B[39m, \u001B[38;5;241m64\u001B[39m, \u001B[38;5;241m32\u001B[39m, \u001B[38;5;241m10\u001B[39m])\n\u001B[0;32m----> 2\u001B[0m \u001B[43mmodel\u001B[49m\u001B[38;5;241;43m.\u001B[39;49m\u001B[43mfit\u001B[49m\u001B[43m(\u001B[49m\u001B[43mx_train\u001B[49m\u001B[43m,\u001B[49m\u001B[43m \u001B[49m\u001B[43my_train\u001B[49m\u001B[43m,\u001B[49m\u001B[43m \u001B[49m\u001B[38;5;28;43;01mTrue\u001B[39;49;00m\u001B[43m,\u001B[49m\u001B[43m \u001B[49m\u001B[38;5;241;43m10\u001B[39;49m\u001B[43m,\u001B[49m\u001B[43m \u001B[49m\u001B[38;5;241;43m0.01\u001B[39;49m\u001B[43m)\u001B[49m\n",
      "File \u001B[0;32m~/Documents/Cours/Rattrapage PA/sweetometer/sweet-o-meter/API/Python_Library/library.py:64\u001B[0m, in \u001B[0;36mMLP.fit\u001B[0;34m(self, all_inputs, expected_outputs, is_classification, iteration, learning_rate)\u001B[0m\n\u001B[1;32m     61\u001B[0m rand_inputs \u001B[38;5;241m=\u001B[39m all_inputs[rand]\n\u001B[1;32m     62\u001B[0m rand_outputs \u001B[38;5;241m=\u001B[39m expected_outputs[rand]\n\u001B[0;32m---> 64\u001B[0m \u001B[38;5;28;43mself\u001B[39;49m\u001B[38;5;241;43m.\u001B[39;49m\u001B[43mpropagate\u001B[49m\u001B[43m(\u001B[49m\u001B[43mrand_inputs\u001B[49m\u001B[43m,\u001B[49m\u001B[43m \u001B[49m\u001B[43mis_classification\u001B[49m\u001B[43m)\u001B[49m\n\u001B[1;32m     66\u001B[0m \u001B[38;5;66;03m# Calc semi gradient last layer\u001B[39;00m\n\u001B[1;32m     67\u001B[0m \u001B[38;5;28;01mfor\u001B[39;00m j \u001B[38;5;129;01min\u001B[39;00m \u001B[38;5;28mrange\u001B[39m(\u001B[38;5;241m1\u001B[39m, \u001B[38;5;28mself\u001B[39m\u001B[38;5;241m.\u001B[39mneuron_per_layer[\u001B[38;5;28mself\u001B[39m\u001B[38;5;241m.\u001B[39mlayers] \u001B[38;5;241m+\u001B[39m \u001B[38;5;241m1\u001B[39m):\n",
      "File \u001B[0;32m~/Documents/Cours/Rattrapage PA/sweetometer/sweet-o-meter/API/Python_Library/library.py:39\u001B[0m, in \u001B[0;36mMLP.propagate\u001B[0;34m(self, inputs, is_classification)\u001B[0m\n\u001B[1;32m     36\u001B[0m \u001B[38;5;28;01mdef\u001B[39;00m \u001B[38;5;21mpropagate\u001B[39m(\u001B[38;5;28mself\u001B[39m, inputs: List[\u001B[38;5;28mfloat\u001B[39m], is_classification: \u001B[38;5;28mbool\u001B[39m):\n\u001B[1;32m     37\u001B[0m     \u001B[38;5;66;03m# Fill inputs\u001B[39;00m\n\u001B[1;32m     38\u001B[0m     \u001B[38;5;28;01mfor\u001B[39;00m i \u001B[38;5;129;01min\u001B[39;00m \u001B[38;5;28mrange\u001B[39m(\u001B[38;5;28mself\u001B[39m\u001B[38;5;241m.\u001B[39mneuron_per_layer[\u001B[38;5;241m0\u001B[39m]):\n\u001B[0;32m---> 39\u001B[0m         \u001B[38;5;28mself\u001B[39m\u001B[38;5;241m.\u001B[39mneuron_data[\u001B[38;5;241m0\u001B[39m][i \u001B[38;5;241m+\u001B[39m \u001B[38;5;241m1\u001B[39m] \u001B[38;5;241m=\u001B[39m \u001B[43minputs\u001B[49m\u001B[43m[\u001B[49m\u001B[43mi\u001B[49m\u001B[43m]\u001B[49m\n\u001B[1;32m     41\u001B[0m     \u001B[38;5;66;03m# Update neuron output, layer after layer\u001B[39;00m\n\u001B[1;32m     42\u001B[0m     \u001B[38;5;28;01mfor\u001B[39;00m layer \u001B[38;5;129;01min\u001B[39;00m \u001B[38;5;28mrange\u001B[39m(\u001B[38;5;241m1\u001B[39m, \u001B[38;5;28mself\u001B[39m\u001B[38;5;241m.\u001B[39mlayers \u001B[38;5;241m+\u001B[39m \u001B[38;5;241m1\u001B[39m):\n",
      "\u001B[0;31mIndexError\u001B[0m: index 28 is out of bounds for axis 0 with size 28"
     ]
    }
   ],
   "source": [
    "model = MLP([512, 256, 64, 32, 10])\n",
    "model.fit(x_train, y_train, True, 10, 0.01)"
   ],
   "metadata": {
    "collapsed": false,
    "ExecuteTime": {
     "end_time": "2023-07-31T17:55:35.301509Z",
     "start_time": "2023-07-31T17:55:34.984653Z"
    }
   }
  },
  {
   "cell_type": "code",
   "execution_count": 28,
   "outputs": [
    {
     "ename": "IndexError",
     "evalue": "index 28 is out of bounds for axis 0 with size 28",
     "output_type": "error",
     "traceback": [
      "\u001B[0;31m---------------------------------------------------------------------------\u001B[0m",
      "\u001B[0;31mIndexError\u001B[0m                                Traceback (most recent call last)",
      "Cell \u001B[0;32mIn[28], line 2\u001B[0m\n\u001B[1;32m      1\u001B[0m \u001B[38;5;28;01mfor\u001B[39;00m sample_inputs \u001B[38;5;129;01min\u001B[39;00m x_test_standardized:\n\u001B[0;32m----> 2\u001B[0m   \u001B[38;5;28mprint\u001B[39m(\u001B[43mmodel\u001B[49m\u001B[38;5;241;43m.\u001B[39;49m\u001B[43mpredict\u001B[49m\u001B[43m(\u001B[49m\u001B[43msample_inputs\u001B[49m\u001B[43m,\u001B[49m\u001B[43m \u001B[49m\u001B[38;5;28;43;01mTrue\u001B[39;49;00m\u001B[43m)\u001B[49m)\n",
      "File \u001B[0;32m~/Documents/Cours/Rattrapage PA/sweetometer/sweet-o-meter/API/Python_Library/library.py:54\u001B[0m, in \u001B[0;36mMLP.predict\u001B[0;34m(self, inputs, is_classification)\u001B[0m\n\u001B[1;32m     53\u001B[0m \u001B[38;5;28;01mdef\u001B[39;00m \u001B[38;5;21mpredict\u001B[39m(\u001B[38;5;28mself\u001B[39m, inputs: List[\u001B[38;5;28mfloat\u001B[39m], is_classification: \u001B[38;5;28mbool\u001B[39m):\n\u001B[0;32m---> 54\u001B[0m     \u001B[38;5;28;43mself\u001B[39;49m\u001B[38;5;241;43m.\u001B[39;49m\u001B[43mpropagate\u001B[49m\u001B[43m(\u001B[49m\u001B[43minputs\u001B[49m\u001B[43m,\u001B[49m\u001B[43m \u001B[49m\u001B[43mis_classification\u001B[49m\u001B[43m)\u001B[49m\n\u001B[1;32m     55\u001B[0m     \u001B[38;5;28;01mreturn\u001B[39;00m \u001B[38;5;28mself\u001B[39m\u001B[38;5;241m.\u001B[39mneuron_data[\u001B[38;5;28mself\u001B[39m\u001B[38;5;241m.\u001B[39mlayers][\u001B[38;5;241m1\u001B[39m:]\n",
      "File \u001B[0;32m~/Documents/Cours/Rattrapage PA/sweetometer/sweet-o-meter/API/Python_Library/library.py:39\u001B[0m, in \u001B[0;36mMLP.propagate\u001B[0;34m(self, inputs, is_classification)\u001B[0m\n\u001B[1;32m     36\u001B[0m \u001B[38;5;28;01mdef\u001B[39;00m \u001B[38;5;21mpropagate\u001B[39m(\u001B[38;5;28mself\u001B[39m, inputs: List[\u001B[38;5;28mfloat\u001B[39m], is_classification: \u001B[38;5;28mbool\u001B[39m):\n\u001B[1;32m     37\u001B[0m     \u001B[38;5;66;03m# Fill inputs\u001B[39;00m\n\u001B[1;32m     38\u001B[0m     \u001B[38;5;28;01mfor\u001B[39;00m i \u001B[38;5;129;01min\u001B[39;00m \u001B[38;5;28mrange\u001B[39m(\u001B[38;5;28mself\u001B[39m\u001B[38;5;241m.\u001B[39mneuron_per_layer[\u001B[38;5;241m0\u001B[39m]):\n\u001B[0;32m---> 39\u001B[0m         \u001B[38;5;28mself\u001B[39m\u001B[38;5;241m.\u001B[39mneuron_data[\u001B[38;5;241m0\u001B[39m][i \u001B[38;5;241m+\u001B[39m \u001B[38;5;241m1\u001B[39m] \u001B[38;5;241m=\u001B[39m \u001B[43minputs\u001B[49m\u001B[43m[\u001B[49m\u001B[43mi\u001B[49m\u001B[43m]\u001B[49m\n\u001B[1;32m     41\u001B[0m     \u001B[38;5;66;03m# Update neuron output, layer after layer\u001B[39;00m\n\u001B[1;32m     42\u001B[0m     \u001B[38;5;28;01mfor\u001B[39;00m layer \u001B[38;5;129;01min\u001B[39;00m \u001B[38;5;28mrange\u001B[39m(\u001B[38;5;241m1\u001B[39m, \u001B[38;5;28mself\u001B[39m\u001B[38;5;241m.\u001B[39mlayers \u001B[38;5;241m+\u001B[39m \u001B[38;5;241m1\u001B[39m):\n",
      "\u001B[0;31mIndexError\u001B[0m: index 28 is out of bounds for axis 0 with size 28"
     ]
    }
   ],
   "source": [
    "for sample_inputs in x_test_standardized:\n",
    "  print(model.predict(sample_inputs, True))\n"
   ],
   "metadata": {
    "collapsed": false,
    "ExecuteTime": {
     "end_time": "2023-07-31T17:55:20.867349Z",
     "start_time": "2023-07-31T17:55:20.833451Z"
    }
   }
  },
  {
   "cell_type": "code",
   "execution_count": null,
   "outputs": [],
   "source": [],
   "metadata": {
    "collapsed": false
   }
  }
 ],
 "metadata": {
  "kernelspec": {
   "display_name": "Python 3",
   "language": "python",
   "name": "python3"
  },
  "language_info": {
   "codemirror_mode": {
    "name": "ipython",
    "version": 2
   },
   "file_extension": ".py",
   "mimetype": "text/x-python",
   "name": "python",
   "nbconvert_exporter": "python",
   "pygments_lexer": "ipython2",
   "version": "2.7.6"
  }
 },
 "nbformat": 4,
 "nbformat_minor": 0
}
