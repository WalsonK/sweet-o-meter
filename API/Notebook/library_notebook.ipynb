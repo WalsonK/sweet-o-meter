{
 "cells": [
  {
   "cell_type": "markdown",
   "source": [
    "# Library"
   ],
   "metadata": {
    "collapsed": false
   }
  },
  {
   "cell_type": "code",
   "execution_count": 1,
   "metadata": {
    "collapsed": true,
    "ExecuteTime": {
     "end_time": "2023-08-16T12:58:22.808055Z",
     "start_time": "2023-08-16T12:58:22.223161Z"
    }
   },
   "outputs": [],
   "source": [
    "from Python_Library.library import MLP\n",
    "import matplotlib.pyplot as plt"
   ]
  },
  {
   "cell_type": "markdown",
   "source": [
    "## Cas de test"
   ],
   "metadata": {
    "collapsed": false
   }
  },
  {
   "cell_type": "markdown",
   "source": [
    "### Classification Linéaire avec un PMC (sans couche cachée)"
   ],
   "metadata": {
    "collapsed": false
   }
  },
  {
   "cell_type": "code",
   "execution_count": 8,
   "outputs": [],
   "source": [
    "test_1_all_samples_inputs = [\n",
    "    [0, 0],\n",
    "    [0, 1],\n",
    "    [1, 0]\n",
    "]\n",
    "test_1_all_samples_expected_outputs = [\n",
    "    [1],\n",
    "    [-1],\n",
    "    [-1]\n",
    "]"
   ],
   "metadata": {
    "collapsed": false,
    "ExecuteTime": {
     "end_time": "2023-08-09T16:48:17.311270Z",
     "start_time": "2023-08-09T16:48:17.297992Z"
    }
   }
  },
  {
   "cell_type": "code",
   "execution_count": 9,
   "outputs": [],
   "source": [
    "test1_mlp = MLP([2, 1])"
   ],
   "metadata": {
    "collapsed": false,
    "ExecuteTime": {
     "end_time": "2023-08-09T16:48:18.683633Z",
     "start_time": "2023-08-09T16:48:18.679444Z"
    }
   }
  },
  {
   "cell_type": "code",
   "execution_count": 10,
   "outputs": [
    {
     "name": "stdout",
     "output_type": "stream",
     "text": [
      "[-0.5726771980675031]\n",
      "[-0.7760167902280639]\n",
      "[-0.813246250449239]\n"
     ]
    }
   ],
   "source": [
    "for sample_inputs in test_1_all_samples_inputs:\n",
    "  print(test1_mlp.predict(sample_inputs, True))"
   ],
   "metadata": {
    "collapsed": false,
    "ExecuteTime": {
     "end_time": "2023-08-09T16:48:19.594055Z",
     "start_time": "2023-08-09T16:48:19.589947Z"
    }
   }
  },
  {
   "cell_type": "code",
   "execution_count": 11,
   "outputs": [],
   "source": [
    "data = test1_mlp.fit(test_1_all_samples_inputs, test_1_all_samples_expected_outputs, True, 100, 0.01)"
   ],
   "metadata": {
    "collapsed": false,
    "ExecuteTime": {
     "end_time": "2023-08-09T16:48:21.905596Z",
     "start_time": "2023-08-09T16:48:21.895213Z"
    }
   }
  },
  {
   "cell_type": "code",
   "execution_count": 6,
   "outputs": [
    {
     "name": "stdout",
     "output_type": "stream",
     "text": [
      "{'loss': [1.5818071454272569, 0.5543407139807225, 0.5447132387521862, 0.5353207695345098, 0.5261572066809092, 1.5913533318796533, 1.5362603674857707, 0.5487051570502555, 1.497991756994661, 1.4441500491381378], 'accuracy': [1.0, 1.0, 1.0, 1.0, 1.0, 1.0, 1.0, 1.0, 1.0, 1.0]}\n"
     ]
    }
   ],
   "source": [
    "print(data)"
   ],
   "metadata": {
    "collapsed": false,
    "ExecuteTime": {
     "end_time": "2023-08-08T23:28:44.950051Z",
     "start_time": "2023-08-08T23:28:44.942958Z"
    }
   }
  },
  {
   "cell_type": "code",
   "execution_count": 6,
   "outputs": [
    {
     "name": "stdout",
     "output_type": "stream",
     "text": [
      "[0.15412798506280195]\n",
      "[-0.4784760037938338]\n",
      "[0.11869545974384102]\n"
     ]
    }
   ],
   "source": [
    "for sample_inputs in test_1_all_samples_inputs:\n",
    "  print(test1_mlp.predict(sample_inputs, True))"
   ],
   "metadata": {
    "collapsed": false,
    "ExecuteTime": {
     "end_time": "2023-08-09T14:52:09.384501Z",
     "start_time": "2023-08-09T14:52:09.378966Z"
    }
   }
  },
  {
   "cell_type": "markdown",
   "source": [
    "### Classification Non Linéaire (XOR) avec un PMC"
   ],
   "metadata": {
    "collapsed": false
   }
  },
  {
   "cell_type": "code",
   "execution_count": 2,
   "outputs": [],
   "source": [
    "test_2_all_samples_inputs = [\n",
    "    [0, 0],\n",
    "    [0, 1],\n",
    "    [1, 0],\n",
    "    [1, 1]\n",
    "]\n",
    "test_2_all_samples_expected_outputs = [\n",
    "    [-1],\n",
    "    [1],\n",
    "    [1],\n",
    "    [-1]\n",
    "]"
   ],
   "metadata": {
    "collapsed": false,
    "ExecuteTime": {
     "end_time": "2023-08-03T22:23:31.687332Z",
     "start_time": "2023-08-03T22:23:31.679513Z"
    }
   }
  },
  {
   "cell_type": "code",
   "execution_count": 3,
   "outputs": [],
   "source": [
    "test2_mlp = MLP([2, 2, 1])"
   ],
   "metadata": {
    "collapsed": false,
    "ExecuteTime": {
     "end_time": "2023-08-03T22:23:45.967573Z",
     "start_time": "2023-08-03T22:23:45.960255Z"
    }
   }
  },
  {
   "cell_type": "code",
   "execution_count": 4,
   "outputs": [
    {
     "name": "stdout",
     "output_type": "stream",
     "text": [
      "[-0.1465149427824706]\n",
      "[0.575177383695049]\n",
      "[-0.4724421415888447]\n",
      "[0.3646451610248691]\n"
     ]
    }
   ],
   "source": [
    "for sample_inputs in test_2_all_samples_inputs:\n",
    "  print(test2_mlp.predict(sample_inputs, True))"
   ],
   "metadata": {
    "collapsed": false,
    "ExecuteTime": {
     "end_time": "2023-08-03T22:23:50.385071Z",
     "start_time": "2023-08-03T22:23:50.363814Z"
    }
   }
  },
  {
   "cell_type": "code",
   "execution_count": 5,
   "outputs": [],
   "source": [
    "test2_mlp.fit(test_2_all_samples_inputs, test_2_all_samples_expected_outputs, True, 100000, 0.01)"
   ],
   "metadata": {
    "collapsed": false,
    "ExecuteTime": {
     "end_time": "2023-08-03T22:23:54.128999Z",
     "start_time": "2023-08-03T22:23:52.141803Z"
    }
   }
  },
  {
   "cell_type": "code",
   "execution_count": 6,
   "outputs": [
    {
     "name": "stdout",
     "output_type": "stream",
     "text": [
      "[-0.9736293378370515]\n",
      "[0.9744103389798404]\n",
      "[-0.001015576182950436]\n",
      "[0.0014669634727310997]\n"
     ]
    }
   ],
   "source": [
    "for sample_inputs in test_2_all_samples_inputs:\n",
    "  print(test2_mlp.predict(sample_inputs, True))"
   ],
   "metadata": {
    "collapsed": false,
    "ExecuteTime": {
     "end_time": "2023-08-03T22:23:58.744926Z",
     "start_time": "2023-08-03T22:23:58.741475Z"
    }
   }
  },
  {
   "cell_type": "markdown",
   "source": [
    "### Régression Linéaire avec un PMC (sans couche cachée)"
   ],
   "metadata": {
    "collapsed": false
   }
  },
  {
   "cell_type": "code",
   "execution_count": 13,
   "outputs": [],
   "source": [
    "test_3_all_samples_inputs = [\n",
    "    [0, 0],\n",
    "    [0, 1],\n",
    "    [1, 0]\n",
    "]\n",
    "test_3_all_samples_expected_outputs = [\n",
    "    [42],\n",
    "    [51],\n",
    "    [19]\n",
    "]"
   ],
   "metadata": {
    "collapsed": false,
    "ExecuteTime": {
     "end_time": "2023-07-31T17:39:00.452862Z",
     "start_time": "2023-07-31T17:39:00.447970Z"
    }
   }
  },
  {
   "cell_type": "code",
   "execution_count": 14,
   "outputs": [],
   "source": [
    "test3_mlp = MLP([2, 1])"
   ],
   "metadata": {
    "collapsed": false,
    "ExecuteTime": {
     "end_time": "2023-07-31T17:39:01.483649Z",
     "start_time": "2023-07-31T17:39:01.471951Z"
    }
   }
  },
  {
   "cell_type": "code",
   "execution_count": 15,
   "outputs": [
    {
     "name": "stdout",
     "output_type": "stream",
     "text": [
      "[-0.3571417043225156]\n",
      "[0.2647861855530549]\n",
      "[0.5746175995623426]\n"
     ]
    }
   ],
   "source": [
    "for sample_inputs in test_3_all_samples_inputs:\n",
    "  print(test3_mlp.predict(sample_inputs, False))"
   ],
   "metadata": {
    "collapsed": false,
    "ExecuteTime": {
     "end_time": "2023-07-31T17:39:21.832208Z",
     "start_time": "2023-07-31T17:39:21.819390Z"
    }
   }
  },
  {
   "cell_type": "code",
   "execution_count": 16,
   "outputs": [],
   "source": [
    "test3_mlp.fit(test_3_all_samples_inputs, test_3_all_samples_expected_outputs, False, 100000, 0.01)"
   ],
   "metadata": {
    "collapsed": false,
    "ExecuteTime": {
     "end_time": "2023-07-31T17:39:26.252533Z",
     "start_time": "2023-07-31T17:39:25.380447Z"
    }
   }
  },
  {
   "cell_type": "code",
   "execution_count": 17,
   "outputs": [
    {
     "name": "stdout",
     "output_type": "stream",
     "text": [
      "[41.999999999999645]\n",
      "[51.000000000000085]\n",
      "[19.000000000000178]\n"
     ]
    }
   ],
   "source": [
    "for sample_inputs in test_3_all_samples_inputs:\n",
    "  print(test3_mlp.predict(sample_inputs, False))"
   ],
   "metadata": {
    "collapsed": false,
    "ExecuteTime": {
     "end_time": "2023-07-31T17:39:27.993639Z",
     "start_time": "2023-07-31T17:39:27.980897Z"
    }
   }
  },
  {
   "cell_type": "markdown",
   "source": [
    "### Régression Non Linéaire avec un PMC"
   ],
   "metadata": {
    "collapsed": false
   }
  },
  {
   "cell_type": "code",
   "execution_count": 18,
   "outputs": [],
   "source": [
    "test_4_all_samples_inputs = [\n",
    "    [0, 0],\n",
    "    [0, 1],\n",
    "    [1, 0],\n",
    "    [1, 1],\n",
    "]\n",
    "test_4_all_samples_expected_outputs = [\n",
    "    [42],\n",
    "    [51],\n",
    "    [19],\n",
    "    [5],\n",
    "]"
   ],
   "metadata": {
    "collapsed": false,
    "ExecuteTime": {
     "end_time": "2023-07-31T17:40:35.722342Z",
     "start_time": "2023-07-31T17:40:35.712751Z"
    }
   }
  },
  {
   "cell_type": "code",
   "execution_count": 19,
   "outputs": [],
   "source": [
    "test4_mlp = MLP([2, 5, 1])"
   ],
   "metadata": {
    "collapsed": false,
    "ExecuteTime": {
     "end_time": "2023-07-31T17:40:37.549083Z",
     "start_time": "2023-07-31T17:40:37.539007Z"
    }
   }
  },
  {
   "cell_type": "code",
   "execution_count": 20,
   "outputs": [
    {
     "name": "stdout",
     "output_type": "stream",
     "text": [
      "[0.30410099877403096]\n",
      "[0.21404427119358904]\n",
      "[0.3456457229367757]\n",
      "[0.24451115338824014]\n"
     ]
    }
   ],
   "source": [
    "for sample_inputs in test_4_all_samples_inputs:\n",
    "  print(test4_mlp.predict(sample_inputs, False))"
   ],
   "metadata": {
    "collapsed": false,
    "ExecuteTime": {
     "end_time": "2023-07-31T17:41:01.536873Z",
     "start_time": "2023-07-31T17:41:01.525356Z"
    }
   }
  },
  {
   "cell_type": "code",
   "execution_count": 21,
   "outputs": [],
   "source": [
    "test4_mlp.fit(test_4_all_samples_inputs, test_4_all_samples_expected_outputs, False, 100000, 0.01)"
   ],
   "metadata": {
    "collapsed": false,
    "ExecuteTime": {
     "end_time": "2023-07-31T17:41:10.187889Z",
     "start_time": "2023-07-31T17:41:06.624734Z"
    }
   }
  },
  {
   "cell_type": "code",
   "execution_count": 22,
   "outputs": [
    {
     "name": "stdout",
     "output_type": "stream",
     "text": [
      "[42.0]\n",
      "[50.999999999999986]\n",
      "[19.0]\n",
      "[5.000000000000002]\n"
     ]
    }
   ],
   "source": [
    "for sample_inputs in test_4_all_samples_inputs:\n",
    "  print(test4_mlp.predict(sample_inputs, False))\n"
   ],
   "metadata": {
    "collapsed": false,
    "ExecuteTime": {
     "end_time": "2023-07-31T17:41:17.274109Z",
     "start_time": "2023-07-31T17:41:17.257935Z"
    }
   }
  },
  {
   "cell_type": "markdown",
   "source": [
    "## Test function categorical accuracy"
   ],
   "metadata": {
    "collapsed": false
   }
  },
  {
   "cell_type": "code",
   "execution_count": 2,
   "outputs": [],
   "source": [
    "test5_inputs = [\n",
    "    [0, 0],\n",
    "    [0, 1],\n",
    "    [1, 0]\n",
    "]\n",
    "\n",
    "test5_outputs = [\n",
    "    [-1, -1],\n",
    "    [-1, -1],\n",
    "    [1, -1]\n",
    "]"
   ],
   "metadata": {
    "collapsed": false,
    "ExecuteTime": {
     "end_time": "2023-08-16T12:35:38.019733Z",
     "start_time": "2023-08-16T12:35:38.016378Z"
    }
   }
  },
  {
   "cell_type": "code",
   "execution_count": 3,
   "outputs": [],
   "source": [
    "test5_mlp = MLP([2,2])"
   ],
   "metadata": {
    "collapsed": false,
    "ExecuteTime": {
     "end_time": "2023-08-16T12:35:43.842450Z",
     "start_time": "2023-08-16T12:35:43.832207Z"
    }
   }
  },
  {
   "cell_type": "code",
   "execution_count": 4,
   "outputs": [],
   "source": [
    "data = test5_mlp.fit(test5_inputs, test5_outputs, (test5_inputs, test5_outputs), True, 100, 0.2)"
   ],
   "metadata": {
    "collapsed": false,
    "ExecuteTime": {
     "end_time": "2023-08-16T12:35:52.473711Z",
     "start_time": "2023-08-16T12:35:51.519361Z"
    }
   }
  },
  {
   "cell_type": "code",
   "execution_count": 5,
   "outputs": [
    {
     "name": "stdout",
     "output_type": "stream",
     "text": [
      "0.99\n"
     ]
    }
   ],
   "source": [
    "print(data['accuracy'][-1])"
   ],
   "metadata": {
    "collapsed": false,
    "ExecuteTime": {
     "end_time": "2023-08-16T12:35:55.777937Z",
     "start_time": "2023-08-16T12:35:55.771387Z"
    }
   }
  },
  {
   "cell_type": "code",
   "execution_count": 6,
   "outputs": [
    {
     "name": "stdout",
     "output_type": "stream",
     "text": [
      "----- predictions ------\n",
      "[-0.8034614521920564, -0.9245804304846815]\n",
      "[-0.8875063316371511, -0.894089493984124]\n",
      "[0.7721880963579137, -0.9574066719549897]\n"
     ]
    }
   ],
   "source": [
    "print(\"----- predictions ------\")\n",
    "for sample in test5_inputs:\n",
    "    print(test5_mlp.predict(sample, True))"
   ],
   "metadata": {
    "collapsed": false,
    "ExecuteTime": {
     "end_time": "2023-08-16T12:36:07.578344Z",
     "start_time": "2023-08-16T12:36:07.570191Z"
    }
   }
  },
  {
   "cell_type": "code",
   "execution_count": 7,
   "outputs": [
    {
     "data": {
      "text/plain": "<Figure size 640x480 with 1 Axes>",
      "image/png": "[encoded data removed]"
     },
     "metadata": {},
     "output_type": "display_data"
    }
   ],
   "source": [
    "plt.plot(range(len(data['accuracy'])), data['accuracy'], label='Droit de l\\'accuracy')\n",
    "plt.xlabel('Iteration')\n",
    "plt.ylabel('Accuracy')\n",
    "plt.title('Evolution of the accuracy')\n",
    "plt.legend()\n",
    "plt.grid()\n",
    "plt.show()"
   ],
   "metadata": {
    "collapsed": false,
    "ExecuteTime": {
     "end_time": "2023-08-16T12:36:41.450997Z",
     "start_time": "2023-08-16T12:36:41.292906Z"
    }
   }
  },
  {
   "cell_type": "code",
   "execution_count": 9,
   "outputs": [
    {
     "data": {
      "text/plain": "<Figure size 640x480 with 1 Axes>",
      "image/png": "[encoded data removed]"
     },
     "metadata": {},
     "output_type": "display_data"
    }
   ],
   "source": [
    "plt.plot(range(len(data['loss'])), data['loss'], label='Train', color='blue')\n",
    "plt.plot(range(len(data['validation_loss'])), data['validation_loss'], label='Test', color='orange')\n",
    "plt.xlabel('Iteration')\n",
    "plt.ylabel('Loss')\n",
    "plt.title('Evolution of the loss')\n",
    "plt.legend()\n",
    "plt.grid()\n",
    "plt.show()"
   ],
   "metadata": {
    "collapsed": false,
    "ExecuteTime": {
     "end_time": "2023-08-16T12:39:25.201106Z",
     "start_time": "2023-08-16T12:39:25.043026Z"
    }
   }
  },
  {
   "cell_type": "markdown",
   "source": [
    "## Sweet o meter DATASET"
   ],
   "metadata": {
    "collapsed": false
   }
  },
  {
   "cell_type": "code",
   "execution_count": 8,
   "outputs": [],
   "source": [
    "import os\n",
    "from Python_Library.library import MLP\n",
    "from Utils.tools import image_to_matrix\n",
    "import matplotlib.pyplot as plt"
   ],
   "metadata": {
    "collapsed": false,
    "ExecuteTime": {
     "end_time": "2023-09-01T10:41:59.738283Z",
     "start_time": "2023-09-01T10:41:59.405895Z"
    }
   }
  },
  {
   "cell_type": "code",
   "execution_count": 2,
   "outputs": [],
   "source": [
    "inputs = []\n",
    "outputs = []\n",
    "validation = ([], [])"
   ],
   "metadata": {
    "collapsed": false,
    "ExecuteTime": {
     "end_time": "2023-09-01T10:37:50.300194Z",
     "start_time": "2023-09-01T10:37:50.282526Z"
    }
   }
  },
  {
   "cell_type": "markdown",
   "source": [
    "### Get all Datas"
   ],
   "metadata": {
    "collapsed": false
   }
  },
  {
   "cell_type": "code",
   "execution_count": 4,
   "outputs": [
    {
     "name": "stdout",
     "output_type": "stream",
     "text": [
      "File : ../Data/Datasets/25x25/Apple_candy/image_306.jpg n'existe pas\n",
      "File : ../Data/Datasets/25x25/Apple_candy/image_8146.jpg n'existe pas\n",
      "File : ../Data/Datasets/25x25/Apple_candy/image_8147.jpg n'existe pas\n",
      "File : ../Data/Datasets/25x25/Apple_candy/image_8859.jpg n'existe pas\n",
      "File : ../Data/Datasets/25x25/Apple_candy/image_9558.jpg n'existe pas\n",
      "File : ../Data/Datasets/25x25/Apple_candy/image_9559.jpg n'existe pas\n",
      "File : ../Data/Datasets/25x25/Apple_candy/image_10173.jpg n'existe pas\n",
      "File : ../Data/Datasets/25x25/Apple_candy/image_10251.jpg n'existe pas\n",
      "File : ../Data/Datasets/25x25/Apple_candy/image_10252.jpg n'existe pas\n",
      "File : ../Data/Datasets/25x25/Apple_candy/image_10253.jpg n'existe pas\n",
      "File : ../Data/Datasets/25x25/Apple_candy/image_10254.jpg n'existe pas\n",
      "File : ../Data/Datasets/25x25/Apple_candy/image_10255.jpg n'existe pas\n",
      "File : ../Data/Datasets/25x25/Apple_candy/image_10256.jpg n'existe pas\n",
      "File : ../Data/Datasets/25x25/Apple_candy/image_10257.jpg n'existe pas\n",
      "File : ../Data/Datasets/25x25/Apple_candy/image_10258.jpg n'existe pas\n",
      "File : ../Data/Datasets/25x25/Apple_candy/image_10259.jpg n'existe pas\n",
      "File : ../Data/Datasets/25x25/Apple_candy/image_10260.jpg n'existe pas\n",
      "File : ../Data/Datasets/25x25/Apple_candy/image_10261.jpg n'existe pas\n",
      "File : ../Data/Datasets/25x25/Apple_candy/image_10262.jpg n'existe pas\n",
      "File : ../Data/Datasets/25x25/Apple_candy/image_10263.jpg n'existe pas\n",
      "File : ../Data/Datasets/25x25/Apple_candy/image_10264.jpg n'existe pas\n",
      "File : ../Data/Datasets/25x25/Apple_candy/image_10265.jpg n'existe pas\n",
      "File : ../Data/Datasets/25x25/Apple_candy/image_10266.jpg n'existe pas\n",
      "File : ../Data/Datasets/25x25/Apple_candy/image_10267.jpg n'existe pas\n",
      "File : ../Data/Datasets/25x25/Apple_candy/image_10268.jpg n'existe pas\n",
      "File : ../Data/Datasets/25x25/Apple_candy/image_10269.jpg n'existe pas\n",
      "File : ../Data/Datasets/25x25/Apple_candy/image_10270.jpg n'existe pas\n",
      "File : ../Data/Datasets/25x25/Cotton_candy/image_10034.jpg n'existe pas\n",
      "File : ../Data/Datasets/25x25/Cotton_candy/image_10047.jpg n'existe pas\n",
      "File : ../Data/Datasets/25x25/Cotton_candy/image_10114.jpg n'existe pas\n",
      "File : ../Data/Datasets/25x25/Cotton_candy/image_10157.jpg n'existe pas\n",
      "File : ../Data/Datasets/25x25/Cotton_candy/image_10269.jpg n'existe pas\n",
      "------------------------\n",
      " Data Loaded : 59434 \n",
      "------------------------\n"
     ]
    }
   ],
   "source": [
    "for i in range(3):\n",
    "    if i == 0:\n",
    "        folder = \"../Data/Datasets/25x25/Churros\"\n",
    "        for y in range(1, 18528):\n",
    "            file = os.path.join(folder, f\"image_{y}.jpg\")\n",
    "            if not os.path.exists(file):\n",
    "                print(f\"File : {file} n'existe pas\")\n",
    "            else:\n",
    "                inputs.append(image_to_matrix(file, False))\n",
    "                outputs.append([1., -1., -1.])\n",
    "        folder = \"../Data/Datasets/25x25/Churros_validation\"\n",
    "        for y in range(1, 2059):\n",
    "            file = os.path.join(folder, f\"image_{y}.jpg\")\n",
    "            if not os.path.exists(file):\n",
    "                print(f\"File : {file} n'existe pas\")\n",
    "            else:\n",
    "                validation[0].append(image_to_matrix(file, False))\n",
    "                validation[1].append([1., -1., -1.])\n",
    "\n",
    "    if i == 1:\n",
    "        folder = \"../Data/Datasets/25x25/Apple_candy\"\n",
    "        for y in range(1, 19952):\n",
    "            file = os.path.join(folder, f\"image_{y}.jpg\")\n",
    "            if not os.path.exists(file):\n",
    "                print(f\"File : {file} n'existe pas\")\n",
    "            else:\n",
    "                inputs.append(image_to_matrix(file, False))\n",
    "                outputs.append([-1., 1., -1.])\n",
    "        folder = \"../Data/Datasets/25x25/Apple_candy_validation\"\n",
    "        for y in range(1, 1899):\n",
    "            file = os.path.join(folder, f\"image_{y}.jpg\")\n",
    "            if not os.path.exists(file):\n",
    "                print(f\"File : {file} n'existe pas\")\n",
    "            else:\n",
    "                validation[0].append(image_to_matrix(file, False))\n",
    "                validation[1].append([-1., 1., -1.])\n",
    "\n",
    "    if i == 2:\n",
    "        folder = \"../Data/Datasets/25x25/Cotton_candy\"\n",
    "        for y in range(1, 20989):\n",
    "            file = os.path.join(folder, f\"image_{y}.jpg\")\n",
    "            if not os.path.exists(file):\n",
    "                print(f\"File : {file} n'existe pas\")\n",
    "            else:\n",
    "                inputs.append(image_to_matrix(file, False))\n",
    "                outputs.append([-1., -1., 1.])\n",
    "        folder = \"../Data/Datasets/25x25/Cotton_candy_validation\"\n",
    "        for y in range(1, 2334):\n",
    "            file = os.path.join(folder, f\"image_{y}.jpg\")\n",
    "            if not os.path.exists(file):\n",
    "                print(f\"File : {file} n'existe pas\")\n",
    "            else:\n",
    "                validation[0].append(image_to_matrix(file, False))\n",
    "                validation[1].append([-1., -1., 1.])\n",
    "\n",
    "print(f\"------------------------\\n Data Loaded : {len(inputs)} \\n------------------------\")"
   ],
   "metadata": {
    "collapsed": false,
    "ExecuteTime": {
     "end_time": "2023-09-01T10:39:33.381461Z",
     "start_time": "2023-09-01T10:39:15.311433Z"
    }
   }
  },
  {
   "cell_type": "markdown",
   "source": [
    "### Init Model"
   ],
   "metadata": {
    "collapsed": false
   }
  },
  {
   "cell_type": "code",
   "execution_count": 5,
   "outputs": [],
   "source": [
    "model = MLP([1875, 4, 3])"
   ],
   "metadata": {
    "collapsed": false,
    "ExecuteTime": {
     "end_time": "2023-09-01T10:40:43.745853Z",
     "start_time": "2023-09-01T10:40:43.714201Z"
    }
   }
  },
  {
   "cell_type": "markdown",
   "source": [
    "### Training"
   ],
   "metadata": {
    "collapsed": false
   }
  },
  {
   "cell_type": "code",
   "execution_count": 6,
   "outputs": [
    {
     "name": "stdout",
     "output_type": "stream",
     "text": [
      "------------------------\n",
      " Accuracy : 0.4 \n",
      "Test Accuracy : 0.335 \n",
      "------------------------\n"
     ]
    }
   ],
   "source": [
    "data = model.fit(inputs, outputs, validation, True, 1000, 0.005)\n",
    "\n",
    "print(f\"------------------------\\n Accuracy : {round(sum(data['accuracy']) / len(data['accuracy']), 3)} \")\n",
    "print(f\"Test Accuracy : {round(sum(data['validation_accuracy']) / len(data['validation_accuracy']), 3)} \\n\"\n",
    "      f\"------------------------\")"
   ],
   "metadata": {
    "collapsed": false,
    "ExecuteTime": {
     "end_time": "2023-09-01T10:41:09.406423Z",
     "start_time": "2023-09-01T10:40:52.099227Z"
    }
   }
  },
  {
   "cell_type": "markdown",
   "source": [
    "### Accuracy"
   ],
   "metadata": {
    "collapsed": false
   }
  },
  {
   "cell_type": "code",
   "execution_count": 9,
   "outputs": [
    {
     "data": {
      "text/plain": "<Figure size 640x480 with 1 Axes>",
      "image/png": "[encoded data removed]"
     },
     "metadata": {},
     "output_type": "display_data"
    }
   ],
   "source": [
    "plt.plot(range(len(data['accuracy'])), data['accuracy'], label='Train')\n",
    "plt.ylim(0.0, 1.0)\n",
    "plt.plot(range(len(data['validation_accuracy'])), data['validation_accuracy'], label='Test', color='orange')\n",
    "plt.xlabel('Iteration')\n",
    "plt.ylabel('Accuracy')\n",
    "plt.title('Evolution of the accuracy')\n",
    "plt.legend()\n",
    "plt.grid()\n",
    "plt.show()"
   ],
   "metadata": {
    "collapsed": false,
    "ExecuteTime": {
     "end_time": "2023-09-01T10:42:06.412438Z",
     "start_time": "2023-09-01T10:42:06.221881Z"
    }
   }
  },
  {
   "cell_type": "markdown",
   "source": [
    "### Loss"
   ],
   "metadata": {
    "collapsed": false
   }
  },
  {
   "cell_type": "code",
   "execution_count": 10,
   "outputs": [
    {
     "data": {
      "text/plain": "<Figure size 640x480 with 1 Axes>",
      "image/png": "[encoded data removed]"
     },
     "metadata": {},
     "output_type": "display_data"
    }
   ],
   "source": [
    "plt.plot(range(len(data['loss'])), data['loss'], label='Train', color='blue')\n",
    "plt.plot(range(len(data['validation_loss'])), data['validation_loss'], label='Test', color='orange')\n",
    "plt.ylim(0.0, 6.0)\n",
    "plt.xlabel('Iteration')\n",
    "plt.ylabel('Loss')\n",
    "plt.title('Evolution of the loss')\n",
    "plt.legend()\n",
    "plt.grid()\n",
    "plt.show()\n"
   ],
   "metadata": {
    "collapsed": false,
    "ExecuteTime": {
     "end_time": "2023-09-01T10:42:11.646812Z",
     "start_time": "2023-09-01T10:42:11.519404Z"
    }
   }
  },
  {
   "cell_type": "markdown",
   "source": [
    "### Save"
   ],
   "metadata": {
    "collapsed": false
   }
  },
  {
   "cell_type": "code",
   "execution_count": 11,
   "outputs": [],
   "source": [
    "model.save(\"model1.json\")\n"
   ],
   "metadata": {
    "collapsed": false,
    "ExecuteTime": {
     "end_time": "2023-09-01T10:42:20.121524Z",
     "start_time": "2023-09-01T10:42:20.099566Z"
    }
   }
  },
  {
   "cell_type": "code",
   "execution_count": null,
   "outputs": [],
   "source": [],
   "metadata": {
    "collapsed": false
   }
  }
 ],
 "metadata": {
  "kernelspec": {
   "display_name": "Python 3",
   "language": "python",
   "name": "python3"
  },
  "language_info": {
   "codemirror_mode": {
    "name": "ipython",
    "version": 2
   },
   "file_extension": ".py",
   "mimetype": "text/x-python",
   "name": "python",
   "nbconvert_exporter": "python",
   "pygments_lexer": "ipython2",
   "version": "2.7.6"
  }
 },
 "nbformat": 4,
 "nbformat_minor": 0
}
